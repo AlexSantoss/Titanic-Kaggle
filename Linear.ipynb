{
 "cells": [
  {
   "cell_type": "code",
   "execution_count": 1,
   "metadata": {},
   "outputs": [],
   "source": [
    "import numpy as np\n",
    "import pandas as pd"
   ]
  },
  {
   "cell_type": "code",
   "execution_count": 2,
   "metadata": {},
   "outputs": [],
   "source": [
    "train = pd.read_csv(\"train.csv\")\n",
    "train.head(5)\n",
    "\n",
    "training = pd.get_dummies(train, columns = [\"Sex\", \"Pclass\", \"Embarked\"])\n",
    "#training[[\"SibSp\",\"Parch\",\"Sex_female\",\"Sex_male\",\"Pclass_1\",\"Pclass_2\",\"Pclass_3\",\"Embarked_C\",\"Embarked_Q\",\"Embarked_S\"]]\n",
    "A = training[[\"Sex_female\",\"Sex_male\",\"Pclass_1\",\"Pclass_2\",\"Pclass_3\",\"Embarked_C\",\"Embarked_Q\",\"Embarked_S\"]].values\n",
    "b = training[\"Survived\"].values\n",
    "\n",
    "x = np.linalg.lstsq(A, b, rcond=-1)[0]\n",
    "\n",
    "test = pd.read_csv(\"test.csv\")\n",
    "\n",
    "testing = pd.get_dummies(test, columns = [\"Sex\", \"Pclass\", \"Embarked\",])\n",
    "A = testing[[\"Sex_female\",\"Sex_male\",\"Pclass_1\",\"Pclass_2\",\"Pclass_3\",\"Embarked_C\",\"Embarked_Q\",\"Embarked_S\"]].values\n",
    "\n",
    "resultados = np.matmul(A, x)\n",
    "result = np.zeros(resultados.size)\n",
    "for num in range(0, resultados.size):\n",
    "    result[num] = 1 if resultados[num]>0.6 else 0\n",
    "    \n",
    "result = result.astype(int)\n",
    "df1 = pd.DataFrame(test[\"PassengerId\"])\n",
    "df2 = pd.DataFrame(result)\n",
    "\n",
    "df = pd.concat([df1, df2], axis=1, sort=False)\n",
    "df.columns =[\"PassengerId\",\"Survived\"]\n",
    "df.to_csv(\"haha.csv\", index=False)"
   ]
  },
  {
   "cell_type": "code",
   "execution_count": null,
   "metadata": {},
   "outputs": [],
   "source": []
  }
 ],
 "metadata": {},
 "nbformat": 4,
 "nbformat_minor": 2
}
